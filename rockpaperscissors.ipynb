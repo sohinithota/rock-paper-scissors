{
 "cells": [
  {
   "cell_type": "code",
   "execution_count": 5,
   "metadata": {},
   "outputs": [],
   "source": [
    "import random\n",
    "\n",
    "class RockPaperScissors():\n",
    "    global rps\n",
    "    rps = ['rock', 'paper','scissors']\n",
    "    \n",
    "    def computer_choice(self): #computer randomly picks rock paper or scissors\n",
    "        x = random.randint(0,2)\n",
    "        w = rps[x]\n",
    "        return \"the computer chooses: \" + w\n",
    "        return 'the computer chooses {f}'.format(f= rps[x])\n",
    "\n",
    "    #def player_choice(self): #does the player choose rock paper or scissors\n",
    "     #   x = True \n",
    "      #  while x:\n",
    "       #     choice = (input(\"Player- would you like rock, paper, or scissors? enter rock,paper, or scissors?: \"))\n",
    "        #    if choice.lower() == 'rock':\n",
    "         #           return 'rock'\n",
    "          #  elif choice.lower() == 'paper':\n",
    "           #         return 'paper'\n",
    "            #elif choice.lower() == 'scissors':\n",
    "             #       return 'scissors'\n",
    "            #else:\n",
    "             #   (\"please enter in rock, paper or scissors\")\n",
    "\n",
    "\n",
    "    def player_choice(self):\n",
    "        x = input(\"Player- would you like rock, paper, or scissors? enter rock,paper, or scissors?: \").lower()\n",
    "        while x != 'rock' and x != 'paper' and x != 'scissors':\n",
    "            choice = (input(\"Player- would you like rock, paper, or scissors? enter rock, paper, or scissors?: \"))  \n",
    "            x = input(\"please enter in rock, paper or scissors\").lower()\n",
    "        return x\n",
    "            \n",
    "    def game_play(self):\n",
    "        rock = RockPaperScissors()\n",
    "        user = rock.player_choice()\n",
    "        #print(rock.player_choice())\n",
    "        comp= rock.computer_choice()\n",
    "        return (comp)\n",
    "        game = True\n",
    "        while game:\n",
    "            if comp == 'rock' and user == 'paper':\n",
    "                return \"the player wins!\"\n",
    "                game = False\n",
    "            elif comp == 'rock' and user == 'scissors':\n",
    "                return \"the computer wins!\"\n",
    "            elif comp == 'paper' and user == 'rock':\n",
    "                return \"the computer wins\"\n",
    "            elif comp == 'paper' and user == 'scissors':\n",
    "                return \"the player wins!\"\n",
    "            elif comp == 'scissors' and user == 'paper':                        \n",
    "                return\"the computer wins!\"\n",
    "            elif comp == 'scissors' and user == 'rock':\n",
    "                return \"the player wins\"\n",
    "    \n",
    "        "
   ]
  },
  {
   "cell_type": "code",
   "execution_count": 6,
   "metadata": {},
   "outputs": [
    {
     "name": "stdout",
     "output_type": "stream",
     "text": [
      "Player- would you like rock, paper, or scissors? enter rock,paper, or scissors?: scissors\n",
      "the computer chooses: scissors\n"
     ]
    }
   ],
   "source": [
    "rock = RockPaperScissors()\n",
    "print(rock.game_play())"
   ]
  },
  {
   "cell_type": "raw",
   "metadata": {},
   "source": []
  },
  {
   "cell_type": "code",
   "execution_count": 20,
   "metadata": {},
   "outputs": [
    {
     "name": "stdout",
     "output_type": "stream",
     "text": [
      "Player- would you like rock, paper, or scissors? enter rock,paper, or scissors?: rock\n"
     ]
    },
    {
     "data": {
      "text/plain": [
       "'the player wins'"
      ]
     },
     "execution_count": 20,
     "metadata": {},
     "output_type": "execute_result"
    }
   ],
   "source": [
    "#rock.player_choice()\n",
    "#rock.computer_choice()\n",
    "rock.game_play()"
   ]
  },
  {
   "cell_type": "code",
   "execution_count": null,
   "metadata": {},
   "outputs": [],
   "source": []
  },
  {
   "cell_type": "code",
   "execution_count": null,
   "metadata": {},
   "outputs": [],
   "source": []
  },
  {
   "cell_type": "code",
   "execution_count": null,
   "metadata": {},
   "outputs": [],
   "source": []
  }
 ],
 "metadata": {
  "kernelspec": {
   "display_name": "Python 3",
   "language": "python",
   "name": "python3"
  },
  "language_info": {
   "codemirror_mode": {
    "name": "ipython",
    "version": 3
   },
   "file_extension": ".py",
   "mimetype": "text/x-python",
   "name": "python",
   "nbconvert_exporter": "python",
   "pygments_lexer": "ipython3",
   "version": "3.7.4"
  }
 },
 "nbformat": 4,
 "nbformat_minor": 2
}
